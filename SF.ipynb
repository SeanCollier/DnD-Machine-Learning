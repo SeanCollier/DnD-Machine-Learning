{
  "nbformat": 4,
  "nbformat_minor": 0,
  "metadata": {
    "colab": {
      "name": "SF",
      "version": "0.3.2",
      "provenance": []
    },
    "kernelspec": {
      "name": "python3",
      "display_name": "Python 3"
    }
  },
  "cells": [
    {
      "metadata": {
        "id": "5woREOzsx4iM",
        "colab_type": "code",
        "colab": {}
      },
      "cell_type": "code",
      "source": [
        "!pip install -q --upgrade tensorflow     #installing prereqs for TF"
      ],
      "execution_count": 0,
      "outputs": []
    },
    {
      "metadata": {
        "id": "33v9DfflyBKB",
        "colab_type": "code",
        "colab": {
          "base_uri": "https://localhost:8080/",
          "height": 50
        },
        "outputId": "b949e12c-5a75-4fff-d318-784713864f49"
      },
      "cell_type": "code",
      "source": [
        "from __future__ import absolute_import, division, print_function\n",
        "\n",
        "import os\n",
        "import matplotlib.pyplot as plt\n",
        "\n",
        "import tensorflow as tf\n",
        "import tensorflow.contrib.eager as tfe\n",
        "\n",
        "tf.enable_eager_execution()\n",
        "\n",
        "print(\"TensorFlow version: {}\".format(tf.VERSION))\n",
        "print(\"Eager execution: {}\".format(tf.executing_eagerly()))"
      ],
      "execution_count": 2,
      "outputs": [
        {
          "output_type": "stream",
          "text": [
            "TensorFlow version: 1.11.0\n",
            "Eager execution: True\n"
          ],
          "name": "stdout"
        }
      ]
    },
    {
      "metadata": {
        "id": "KQgiMFiU6qtx",
        "colab_type": "code",
        "colab": {}
      },
      "cell_type": "code",
      "source": [
        "# Die rolling functions\n",
        "import random\n",
        "\n",
        "def d100(): #function to roll a d100\n",
        "   roll = random.randint(1,100);\n",
        "   return roll\n",
        "  \n",
        "  \n",
        "def d20(): #function to roll a d20\n",
        "   roll = random.randint(1,20) \n",
        "   return roll\n",
        "\n",
        "def d12(): #function to roll a d12\n",
        "   roll = random.randint(1,12) \n",
        "   return roll\n",
        "\n",
        "def d10(): #function to roll a d10\n",
        "   roll = random.randint(1,10) \n",
        "   return roll\n",
        "\n",
        "def d8(): #function to roll a d8\n",
        "   roll = random.randint(1,8) \n",
        "   return roll\n",
        "\n",
        "def d6(): #function to roll a d6\n",
        "   roll = random.randint(1,6) \n",
        "   return roll\n",
        "\n",
        "def d4(): #function to roll a d4\n",
        "   roll = random.randint(1,4) \n",
        "   return roll\n",
        "\n",
        "i=1 #establish the first character number"
      ],
      "execution_count": 0,
      "outputs": []
    },
    {
      "metadata": {
        "id": "vZid70p-yLB2",
        "colab_type": "code",
        "colab": {}
      },
      "cell_type": "code",
      "source": [
        "#developing Brer (to be used as a template for futures)\n",
        "#current level is 4 with cb mast and sharpshooter, arch fight style\n",
        "class Brer:\n",
        "  \n",
        "  character_num = i\n",
        "  i=i+1\n",
        "  \n",
        "  #char stats \n",
        "  hp_max = 37\n",
        "  hp_current = 37\n",
        "  sup_die_total = 3\n",
        "  sup_die_curnt = 3\n",
        "  AC = 18\n",
        "  prof = 3\n",
        "  arch = 2\n",
        "  move_base = 6\n",
        "  move_current = 6\n",
        "  \n",
        "  #modifiers\n",
        "  con=3\n",
        "  str=3\n",
        "  dex=3\n",
        "  chr=2\n",
        "  wis=-1\n",
        "  int=2\n",
        "  \n",
        "  \n",
        "#####Brer atks\n",
        "  base_attacks = 3\n",
        "  current_attacks = 3\n",
        "  lcb_tohit = dex + prof + arch\n",
        "  lcb_dmg_bonus = dex\n",
        "  \n",
        "  ss_lcb_tohit = dex + prof + arch -5\n",
        "  ss_lcb_dmg_bonus = dex + 10\n",
        "\n",
        "  def sup_die_dmg(): #function to roll a d8 for superior damage die\n",
        "    dmg = random.randint(1,8) \n",
        "    return dmg\n",
        "  \n",
        "  def lcb_dmg(): #function to roll for lcb damage\n",
        "    dmg = random.randint(1,6)+Brer.lcb_dmg_bonus\n",
        "    return dmg\n",
        "  \n",
        "  def ss_lcb_dmg(): #function to roll for lcb damage\n",
        "    dmg = random.randint(1,6)+Brer.ss_lcb_dmg_bonus\n",
        "    return dmg\n",
        "  \n",
        "  \n",
        "  def attack(foe,dist): #Brer's attack no sharpshooter\n",
        "    Brer.current_attacks = Brer.current_attacks-1\n",
        "    if dist < 10000:\n",
        "      atk = d20()+Brer.lcb_tohit\n",
        "      if atk >= foe.AC:\n",
        "        dmg = Brer.lcb_dmg()\n",
        "        foe.hp_current=foe.hp_current-dmg\n",
        "        print('attack hit for:')\n",
        "      else:\n",
        "        dmg=0\n",
        "        print('attack missed')\n",
        "    else:\n",
        "      dmg=0\n",
        "      print('not in range')\n",
        "    print(dmg)\n",
        "    return\n",
        "        \n",
        "  def ss_attack(foe,dist): #Brer's attack with sharpshooter\n",
        "    Brer.current_attacks = Brer.current_attacks-1\n",
        "    if dist < 10000:\n",
        "      atk = d20()+Brer.ss_lcb_tohit\n",
        "      if atk >= foe.AC:\n",
        "        dmg = Brer.ss_lcb_dmg()\n",
        "        foe.hp_current=foe.hp_current-dmg\n",
        "        print('attack hit for:')\n",
        "      else:\n",
        "        dmg=0\n",
        "        print('attack missed')\n",
        "    else:\n",
        "      dmg=0\n",
        "      print('not in range')\n",
        "    print(dmg)\n",
        "    return"
      ],
      "execution_count": 0,
      "outputs": []
    },
    {
      "metadata": {
        "id": "wji_-Bex09pA",
        "colab_type": "code",
        "colab": {}
      },
      "cell_type": "code",
      "source": [
        "class mons:\n",
        "  character_num = i\n",
        "  i=i+1\n",
        "#enemy hobgob captain stats\n",
        "  hp_max = 37\n",
        "  hp_current = 39\n",
        "  AC = 17\n",
        "  move_base = 6\n",
        "  move_current = 6\n",
        "  \n",
        "#####enemy hobgob captain attack\n",
        "  base_attacks = 2\n",
        "  current_attacks = 2\n",
        "  tohit =  4\n",
        "  dmg_bonus = 2\n",
        "  dex = 2\n",
        "  \n",
        "  \n",
        "  def gs_dmg(): #function to roll greatsword damage\n",
        "    dmg = random.randint(1,6) + random.randint(1,6)\n",
        "    return dmg\n",
        "  \n",
        "  def attack(foe,dist): #Monster attack\n",
        "    mons.current_attacks = mons.current_attacks-1\n",
        "    if dist < 2:\n",
        "      atk = d20()+mons.tohit\n",
        "      if atk >= foe.AC:\n",
        "        dmg = mons.gs_dmg()\n",
        "        foe.hp_current=foe.hp_current-dmg\n",
        "        print('attack hit for:')\n",
        "      else:\n",
        "        dmg=0\n",
        "        print('attack missed')\n",
        "    else:\n",
        "      dmg=0\n",
        "      print('not in range')\n",
        "    return dmg\n",
        "  \n",
        "  diag_counter = 0"
      ],
      "execution_count": 0,
      "outputs": []
    },
    {
      "metadata": {
        "id": "MeEKsw8d4KC4",
        "colab_type": "code",
        "colab": {}
      },
      "cell_type": "code",
      "source": [
        "#Creating the battle grid\n",
        "class map():\n",
        "  x_size = 100 #each 1 equals 5 ft; 0 is far left\n",
        "  y_size = 100 #each 1 equals 5 ft; 0 is bottom\n",
        "\n",
        "  space = [0]*x_size\n",
        "  for i in range(x_size):\n",
        "    space[i] = [0] * y_size\n"
      ],
      "execution_count": 0,
      "outputs": []
    },
    {
      "metadata": {
        "id": "rtqIvck3B6zX",
        "colab_type": "code",
        "colab": {}
      },
      "cell_type": "code",
      "source": [
        "#Generating  starting positions, controlled, and pretty far\n",
        "Brer.pos = [25,25]\n",
        "mons.pos = [75,75]\n",
        "\n",
        "#placing them on the battle grid\n",
        "map.space[Brer.pos[0]][Brer.pos[1]] = Brer.character_num\n",
        "map.space[mons.pos[0]][mons.pos[1]] = mons.character_num\n"
      ],
      "execution_count": 0,
      "outputs": []
    },
    {
      "metadata": {
        "id": "JdR6Gd84C5YH",
        "colab_type": "code",
        "colab": {}
      },
      "cell_type": "code",
      "source": [
        "#Deciding initiative\n",
        "Brer.initiative = [d20() + Brer.dex]\n",
        "mons.initiative = [d20() + mons.dex]\n",
        "\n",
        "while Brer.initiative == mons.initiative:\n",
        "  Brer.initiative = [d20() + Brer.dex]\n",
        "  mons.initiative = [d20() + mons.dex]\n",
        "\n",
        "\n",
        "initiative_order = sorted([Brer,mons], key=lambda x: x.initiative, reverse=True)\n",
        "\n"
      ],
      "execution_count": 0,
      "outputs": []
    },
    {
      "metadata": {
        "id": "k1v3KP6oWuKs",
        "colab_type": "code",
        "colab": {}
      },
      "cell_type": "code",
      "source": [
        "#Matrix addition function -- to be used to combine values for linear movement\n",
        "def matrixADD(A,B):\n",
        "  Z = []\n",
        "  #TODO\n",
        "  for i in range(0,len(A)):\n",
        "    for column in range(0, len(A)):\n",
        "        result = A[i][column] + B[i][column]\n",
        "        Z[i][column] = (result)\n",
        "  return Z"
      ],
      "execution_count": 0,
      "outputs": []
    },
    {
      "metadata": {
        "id": "wfzsybCkgKpr",
        "colab_type": "code",
        "colab": {
          "base_uri": "https://localhost:8080/",
          "height": 34
        },
        "outputId": "493713ed-f6f0-4f7b-bb64-015034618319"
      },
      "cell_type": "code",
      "source": [
        "Brer.pos"
      ],
      "execution_count": 10,
      "outputs": [
        {
          "output_type": "execute_result",
          "data": {
            "text/plain": [
              "[25, 25]"
            ]
          },
          "metadata": {
            "tags": []
          },
          "execution_count": 10
        }
      ]
    },
    {
      "metadata": {
        "id": "Yud0vZe2Sc58",
        "colab_type": "code",
        "colab": {}
      },
      "cell_type": "code",
      "source": [
        "#Movement action\n",
        "\n",
        "# what to do next is to reconstruct the previous parts of the code make\n",
        "#brer and monster into classes that contain info about their everything,\n",
        "#rather than have seperate info in different variables\n",
        "class move:\n",
        "  #all movement is currently centered in cartesian plane map.pos[x,y,z]\n",
        "  total = 6\n",
        "  \n",
        "  def up(character):\n",
        "    print(character.pos)\n",
        "    #create a temporary vector that will contain the values of the current space\n",
        "    tempx = int(character.pos[0])\n",
        "    tempy = int(character.pos[1])\n",
        "    character.pos[1] = character.pos[1]+1\n",
        "    tempx2 = int(character.pos[0])\n",
        "    tempy2 = int(character.pos[1])\n",
        "    map.space[tempx2][tempy2] = character.character_num\n",
        "    map.space[tempx][tempy] = 0\n",
        "    character.move = character.move_current -1\n",
        "    return character.pos\n",
        "  \n",
        "    \n",
        "    \n",
        "  def right(character): #move right command\n",
        "    tempx = int(character.pos[0])\n",
        "    tempy = int(character.pos[1])\n",
        "    character.pos[0] = character.pos[0]+1\n",
        "    tempx2 = int(character.pos[0])\n",
        "    tempy2 = int(character.pos[1])\n",
        "    map.space[tempx2][tempy2] = character.character_num\n",
        "    map.space[tempx][tempy] = 0\n",
        "    character.move = character.move_current -1\n",
        "    return character.pos\n",
        "    \n",
        "    \n",
        "    \n",
        "  def down(character): #move down command\n",
        "    tempx = int(character.pos[0])\n",
        "    tempy = int(character.pos[1])\n",
        "    character.pos[0] = character.pos[1]-1\n",
        "    tempx2 = int(character.pos[0])\n",
        "    tempy2 = int(character.pos[1])\n",
        "    map.space[tempx2][tempy2] = character.character_num\n",
        "    map.space[tempx][tempy] = 0\n",
        "    character.move = character.move_current -1\n",
        "    return character.pos\n",
        "  \n",
        "    \n",
        "   \n",
        "  def left(character): #move left command\n",
        "    tempx = int(character.pos[0])\n",
        "    tempy = int(character.pos[1])\n",
        "    character.pos[0] = character.pos[0] -1\n",
        "    tempx2 = int(character.pos[0])\n",
        "    tempy2 = int(character.pos[1])\n",
        "    map.space[tempx2][tempy2] = character.character_num\n",
        "    map.space[tempx][tempy] = 0\n",
        "    character.move = character.move_current -1\n",
        "    return character.pos\n",
        "  \n",
        "  def upright(character): #move diagonally up-right command\n",
        "    tempx = int(character.pos[0])\n",
        "    tempy = int(character.pos[1])\n",
        "    character.pos[0] = character.pos[0]+1\n",
        "    character.pos[1] = character.pos[1]+1\n",
        "    tempx2 = int(character.pos[0])\n",
        "    tempy2 = int(character.pos[1])\n",
        "    map.space[tempx2][tempy2] = character.character_num\n",
        "    map.space[tempx][tempy] = 0\n",
        "    \n",
        "    if character.diag_counter == 0:\n",
        "      character.diag_counter = character.diag_counter +1\n",
        "      character.move = character.move_current -1\n",
        "    elif character.diag_counter == 1:\n",
        "      character.diag_counter = character.diag_counter -1\n",
        "      character.move = character.move_current -2\n",
        "    return character.pos\n",
        "  \n",
        "  def upleft(character): #move diagonally up-left command\n",
        "    tempx = int(character.pos[0])\n",
        "    tempy = int(character.pos[1])\n",
        "    character.pos[0] = character.pos[0]-1\n",
        "    character.pos[1] = character.pos[1]+1\n",
        "    tempx2 = int(character.pos[0])\n",
        "    tempy2 = int(character.pos[1])\n",
        "    map.space[tempx2][tempy2] = character.character_num\n",
        "    map.space[tempx][tempy] = 0\n",
        "    \n",
        "    if character.diag_counter == 0:\n",
        "      character.diag_counter = character.diag_counter +1\n",
        "      character.move = character.move_current -1\n",
        "    elif character.diag_counter == 1:\n",
        "      character.diag_counter = character.diag_counter -1\n",
        "      character.move = character.move_current -2\n",
        "    return character.pos\n",
        "  \n",
        "  def downright(character): #move diagonally down-right command\n",
        "    tempx = int(character.pos[0])\n",
        "    tempy = int(character.pos[1])\n",
        "    character.pos[0] = character.pos[0]+1\n",
        "    character.pos[1] = character.pos[1]-1\n",
        "    tempx2 = int(character.pos[0])\n",
        "    tempy2 = int(character.pos[1])\n",
        "    map.space[tempx2][tempy2] = character.character_num\n",
        "    map.space[tempx][tempy] = 0\n",
        "    \n",
        "    if character.diag_counter == 0:\n",
        "      character.diag_counter = character.diag_counter +1\n",
        "      character.move = character.move_current -1\n",
        "    elif character.diag_counter == 1:\n",
        "      character.diag_counter = character.diag_counter -1\n",
        "      character.move = character.move_current -2\n",
        "    return character.pos\n",
        "  \n",
        "  def downleft(character): #move diagonally up-right command\n",
        "    tempx = int(character.pos[0])\n",
        "    tempy = int(character.pos[1])\n",
        "    character.pos[0] = character.pos[0]-1\n",
        "    character.pos[1] = character.pos[1]-1\n",
        "    tempx2 = int(character.pos[0])\n",
        "    tempy2 = int(character.pos[1])\n",
        "    map.space[tempx2][tempy2] = character.character_num\n",
        "    map.space[tempx][tempy] = 0\n",
        "    \n",
        "    if character.diag_counter == 0:\n",
        "      character.diag_counter = character.diag_counter +1\n",
        "      character.move = character.move_current -1\n",
        "    elif character.diag_counter == 1:\n",
        "      character.diag_counter = character.diag_counter -1\n",
        "      character.move = character.move_current -2\n",
        "    return character.pos"
      ],
      "execution_count": 0,
      "outputs": []
    },
    {
      "metadata": {
        "id": "99GCeqdg90BM",
        "colab_type": "text"
      },
      "cell_type": "markdown",
      "source": [
        "the next goal will be to construct a round of combat, possibly using a neural net architecture? Not sure, because the mechanics are there, we just need to construct a way for the machines to implement them.\n",
        "  \n",
        "fitness should be decided based on dealing damage (+), avoiding damage(-), and winning the round(+++) "
      ]
    },
    {
      "metadata": {
        "id": "7YfDm3pZ97yP",
        "colab_type": "code",
        "colab": {}
      },
      "cell_type": "code",
      "source": [
        "#Hobgoblin moving objective -> get closer to Brer\n",
        "import numpy\n",
        "#find the distance between two points, returns how many vertical, horiz and\n",
        "  #absolute the character must move in regards to a second character\n",
        "def distance_find(char2,char1):\n",
        "  x_dist = char1.pos[0]-char2.pos[0]\n",
        "  y_dist = char1.pos[1]-char2.pos[1]\n",
        "  abs_dist = ((char1.pos[0]-char2.pos[0])**2+((char1.pos[1]-char2.pos[1])**2))**0.5\n",
        "  return (x_dist,y_dist,abs_dist)\n",
        "\n",
        "# Hob goblin moving objective, very basic distance closing algorithm\n",
        "\n",
        "\n",
        "            "
      ],
      "execution_count": 0,
      "outputs": []
    },
    {
      "metadata": {
        "id": "hmk4peznGEm6",
        "colab_type": "code",
        "colab": {
          "base_uri": "https://localhost:8080/",
          "height": 346
        },
        "outputId": "4321545d-f320-4133-c87f-4789ebdb232b"
      },
      "cell_type": "code",
      "source": [
        "while mons.move_current > 0:\n",
        "  current_dist = distance_find(mons,Brer)\n",
        "  \n",
        "  if abs(current_dist[0]) > abs(current_dist[1])*2: #general pursuit in horiz dir\n",
        "    if current_dist[0] > 0:\n",
        "      right(mons)\n",
        "      mons.move_current = mons.move_current-1\n",
        "    elif current_dist[0] < 0:\n",
        "      left(mons)\n",
        "      mons.move_current = mons.move_current-1\n",
        "      \n",
        "  elif abs(current_dist[1]) > abs(current_dist[0])*2: #general pursuit in vert dir\n",
        "    if current_dist[0] > 0:\n",
        "      up(mons)\n",
        "      mons.move_current = mons.move_current-1\n",
        "    elif current_dist[0] < 0:\n",
        "      down(mons)\n",
        "      mons.move_current = mons.move_current-1\n",
        "      \n",
        "  elif abs(current_dist[0]) > abs(current_dist[1]) and abs(current_dist[0]) < abs(current_dist[1])*2: #pursuit in diag rights\n",
        "    if current_dist[0] > 0:\n",
        "      if current_dist[1] > 0: \n",
        "        upright(mons)\n",
        "        mons.move_current = mons.move_current-1\n",
        "      elif current_dist[1] < 0: \n",
        "        downright(mons)\n",
        "        mons.move_current = mons.move_current-1\n",
        "        \n",
        "    elif current_dist[0] < 0:\n",
        "      if current_dist[1] > 0: \n",
        "        upleft(mons)\n",
        "        mons.move_current = mons.move_current-1\n",
        "      elif current_dist[1] < 0: \n",
        "        downleft(mons)\n",
        "        mons.move_current = mons.move_current-1\n",
        "        "
      ],
      "execution_count": 21,
      "outputs": [
        {
          "output_type": "error",
          "ename": "KeyboardInterrupt",
          "evalue": "ignored",
          "traceback": [
            "\u001b[0;31m---------------------------------------------------------------------------\u001b[0m",
            "\u001b[0;31mKeyboardInterrupt\u001b[0m                         Traceback (most recent call last)",
            "\u001b[0;32m<ipython-input-21-844b6281f668>\u001b[0m in \u001b[0;36m<module>\u001b[0;34m()\u001b[0m\n\u001b[1;32m      1\u001b[0m \u001b[0;32mwhile\u001b[0m \u001b[0mmons\u001b[0m\u001b[0;34m.\u001b[0m\u001b[0mmove_current\u001b[0m \u001b[0;34m>\u001b[0m \u001b[0;36m0\u001b[0m\u001b[0;34m:\u001b[0m\u001b[0;34m\u001b[0m\u001b[0m\n\u001b[0;32m----> 2\u001b[0;31m   \u001b[0mcurrent_dist\u001b[0m \u001b[0;34m=\u001b[0m \u001b[0mdistance_find\u001b[0m\u001b[0;34m(\u001b[0m\u001b[0mmons\u001b[0m\u001b[0;34m,\u001b[0m\u001b[0mBrer\u001b[0m\u001b[0;34m)\u001b[0m\u001b[0;34m\u001b[0m\u001b[0m\n\u001b[0m\u001b[1;32m      3\u001b[0m \u001b[0;34m\u001b[0m\u001b[0m\n\u001b[1;32m      4\u001b[0m   \u001b[0;32mif\u001b[0m \u001b[0mabs\u001b[0m\u001b[0;34m(\u001b[0m\u001b[0mcurrent_dist\u001b[0m\u001b[0;34m[\u001b[0m\u001b[0;36m0\u001b[0m\u001b[0;34m]\u001b[0m\u001b[0;34m)\u001b[0m \u001b[0;34m>\u001b[0m \u001b[0mabs\u001b[0m\u001b[0;34m(\u001b[0m\u001b[0mcurrent_dist\u001b[0m\u001b[0;34m[\u001b[0m\u001b[0;36m1\u001b[0m\u001b[0;34m]\u001b[0m\u001b[0;34m)\u001b[0m\u001b[0;34m*\u001b[0m\u001b[0;36m2\u001b[0m\u001b[0;34m:\u001b[0m \u001b[0;31m#general pursuit in horiz dir\u001b[0m\u001b[0;34m\u001b[0m\u001b[0m\n\u001b[1;32m      5\u001b[0m     \u001b[0;32mif\u001b[0m \u001b[0mcurrent_dist\u001b[0m\u001b[0;34m[\u001b[0m\u001b[0;36m0\u001b[0m\u001b[0;34m]\u001b[0m \u001b[0;34m>\u001b[0m \u001b[0;36m0\u001b[0m\u001b[0;34m:\u001b[0m\u001b[0;34m\u001b[0m\u001b[0m\n",
            "\u001b[0;32m<ipython-input-16-e64e2abcd181>\u001b[0m in \u001b[0;36mdistance_find\u001b[0;34m(char2, char1)\u001b[0m\n\u001b[1;32m      3\u001b[0m   \u001b[0;31m#absolute the character must move in regards to a second character\u001b[0m\u001b[0;34m\u001b[0m\u001b[0;34m\u001b[0m\u001b[0m\n\u001b[1;32m      4\u001b[0m \u001b[0;32mdef\u001b[0m \u001b[0mdistance_find\u001b[0m\u001b[0;34m(\u001b[0m\u001b[0mchar2\u001b[0m\u001b[0;34m,\u001b[0m\u001b[0mchar1\u001b[0m\u001b[0;34m)\u001b[0m\u001b[0;34m:\u001b[0m\u001b[0;34m\u001b[0m\u001b[0m\n\u001b[0;32m----> 5\u001b[0;31m   \u001b[0mx_dist\u001b[0m \u001b[0;34m=\u001b[0m \u001b[0mchar1\u001b[0m\u001b[0;34m.\u001b[0m\u001b[0mpos\u001b[0m\u001b[0;34m[\u001b[0m\u001b[0;36m0\u001b[0m\u001b[0;34m]\u001b[0m\u001b[0;34m-\u001b[0m\u001b[0mchar2\u001b[0m\u001b[0;34m.\u001b[0m\u001b[0mpos\u001b[0m\u001b[0;34m[\u001b[0m\u001b[0;36m0\u001b[0m\u001b[0;34m]\u001b[0m\u001b[0;34m\u001b[0m\u001b[0m\n\u001b[0m\u001b[1;32m      6\u001b[0m   \u001b[0my_dist\u001b[0m \u001b[0;34m=\u001b[0m \u001b[0mchar1\u001b[0m\u001b[0;34m.\u001b[0m\u001b[0mpos\u001b[0m\u001b[0;34m[\u001b[0m\u001b[0;36m1\u001b[0m\u001b[0;34m]\u001b[0m\u001b[0;34m-\u001b[0m\u001b[0mchar2\u001b[0m\u001b[0;34m.\u001b[0m\u001b[0mpos\u001b[0m\u001b[0;34m[\u001b[0m\u001b[0;36m1\u001b[0m\u001b[0;34m]\u001b[0m\u001b[0;34m\u001b[0m\u001b[0m\n\u001b[1;32m      7\u001b[0m   \u001b[0mabs_dist\u001b[0m \u001b[0;34m=\u001b[0m \u001b[0;34m(\u001b[0m\u001b[0;34m(\u001b[0m\u001b[0mchar1\u001b[0m\u001b[0;34m.\u001b[0m\u001b[0mpos\u001b[0m\u001b[0;34m[\u001b[0m\u001b[0;36m0\u001b[0m\u001b[0;34m]\u001b[0m\u001b[0;34m-\u001b[0m\u001b[0mchar2\u001b[0m\u001b[0;34m.\u001b[0m\u001b[0mpos\u001b[0m\u001b[0;34m[\u001b[0m\u001b[0;36m0\u001b[0m\u001b[0;34m]\u001b[0m\u001b[0;34m)\u001b[0m\u001b[0;34m**\u001b[0m\u001b[0;36m2\u001b[0m\u001b[0;34m+\u001b[0m\u001b[0;34m(\u001b[0m\u001b[0;34m(\u001b[0m\u001b[0mchar1\u001b[0m\u001b[0;34m.\u001b[0m\u001b[0mpos\u001b[0m\u001b[0;34m[\u001b[0m\u001b[0;36m1\u001b[0m\u001b[0;34m]\u001b[0m\u001b[0;34m-\u001b[0m\u001b[0mchar2\u001b[0m\u001b[0;34m.\u001b[0m\u001b[0mpos\u001b[0m\u001b[0;34m[\u001b[0m\u001b[0;36m1\u001b[0m\u001b[0;34m]\u001b[0m\u001b[0;34m)\u001b[0m\u001b[0;34m**\u001b[0m\u001b[0;36m2\u001b[0m\u001b[0;34m)\u001b[0m\u001b[0;34m)\u001b[0m\u001b[0;34m**\u001b[0m\u001b[0;36m0.5\u001b[0m\u001b[0;34m\u001b[0m\u001b[0m\n",
            "\u001b[0;31mKeyboardInterrupt\u001b[0m: "
          ]
        }
      ]
    },
    {
      "metadata": {
        "id": "0HY8gtHgGukY",
        "colab_type": "code",
        "colab": {
          "base_uri": "https://localhost:8080/",
          "height": 34
        },
        "outputId": "4dfed3c5-c64e-437e-b5dd-98fdb8008034"
      },
      "cell_type": "code",
      "source": [
        "Brer.pos\n",
        "current_dist = distance_find(mons,Brer)\n",
        "current_dist"
      ],
      "execution_count": 20,
      "outputs": [
        {
          "output_type": "execute_result",
          "data": {
            "text/plain": [
              "(-50, -50, 70.71067811865476)"
            ]
          },
          "metadata": {
            "tags": []
          },
          "execution_count": 20
        }
      ]
    }
  ]
}